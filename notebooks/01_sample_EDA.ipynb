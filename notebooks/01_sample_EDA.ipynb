{
 "cells": [
  {
   "cell_type": "code",
   "execution_count": 1,
   "id": "e297f252-f7e5-4197-857d-b87935b5e05c",
   "metadata": {},
   "outputs": [],
   "source": [
    "import os\n",
    "from pathlib import Path"
   ]
  },
  {
   "cell_type": "code",
   "execution_count": 2,
   "id": "82742156-0967-4130-97a8-4428bd990e6a",
   "metadata": {},
   "outputs": [],
   "source": [
    "from sklearn.preprocessing import MinMaxScaler, StandardScaler"
   ]
  },
  {
   "cell_type": "code",
   "execution_count": 3,
   "id": "0fe46fbd-3bd9-4c27-a8e0-43a83f5a20fa",
   "metadata": {},
   "outputs": [],
   "source": [
    "from sklearn.model_selection import train_test_split"
   ]
  },
  {
   "cell_type": "code",
   "execution_count": 4,
   "id": "2849b9b4-95bf-4dcf-987a-bf88bc0a7bb0",
   "metadata": {},
   "outputs": [],
   "source": [
    "from matplotlib import pyplot as plt"
   ]
  },
  {
   "cell_type": "code",
   "execution_count": 5,
   "id": "15865789-9a6d-451b-8dcd-805ea19aab6d",
   "metadata": {},
   "outputs": [],
   "source": [
    "os.chdir(Path(os.getcwd()).parent)"
   ]
  },
  {
   "cell_type": "code",
   "execution_count": 6,
   "id": "30086b7c-d3e9-4e22-b513-5fdccaf50c7b",
   "metadata": {},
   "outputs": [],
   "source": [
    "import pandas as pd"
   ]
  },
  {
   "cell_type": "code",
   "execution_count": 7,
   "id": "3c8cc5f5-b1df-48b7-98ed-28849e1d04bb",
   "metadata": {},
   "outputs": [],
   "source": [
    "from moddata import load_data"
   ]
  },
  {
   "cell_type": "markdown",
   "id": "dff2d156-5011-4561-8b64-bb9f5488095e",
   "metadata": {},
   "source": [
    "## 0. Data Import & Splitting Into Train, Validation and Test DataSets"
   ]
  },
  {
   "cell_type": "code",
   "execution_count": 8,
   "id": "63a91bbb-a984-4066-aaf9-1306dc7013f9",
   "metadata": {},
   "outputs": [],
   "source": [
    "data = load_data(\"bankchurn\")"
   ]
  },
  {
   "cell_type": "code",
   "execution_count": 9,
   "id": "24c63bbe-c324-410b-95ae-36f1fc25f37b",
   "metadata": {},
   "outputs": [
    {
     "name": "stdout",
     "output_type": "stream",
     "text": [
      "Number of observations in the data set: 10,000\n"
     ]
    }
   ],
   "source": [
    "print(f\"Number of observations in the data set: {data.shape[0]:,}\")"
   ]
  },
  {
   "cell_type": "code",
   "execution_count": 10,
   "id": "fe61944e-272a-4ac9-a9f8-a30a68a132e5",
   "metadata": {},
   "outputs": [],
   "source": [
    "sample_size = 1_000"
   ]
  },
  {
   "cell_type": "code",
   "execution_count": 11,
   "id": "1c1f0146-ec08-49b5-a1ee-d5ca46f808a5",
   "metadata": {},
   "outputs": [],
   "source": [
    "data, test_data = train_test_split(data, train_size=sample_size, stratify=data[\"churn\"])"
   ]
  },
  {
   "cell_type": "markdown",
   "id": "9882919f-697c-4cea-85e4-2e9cd4889731",
   "metadata": {},
   "source": [
    "## 1. Preliminary EDA"
   ]
  },
  {
   "cell_type": "code",
   "execution_count": 12,
   "id": "d8ac469c-eeba-418a-b49f-4f1aa90bb4ed",
   "metadata": {},
   "outputs": [],
   "source": [
    "data = data.drop(columns=[\"customer_id\"])"
   ]
  },
  {
   "cell_type": "code",
   "execution_count": 13,
   "id": "4b0a1413-3bdf-4dd2-b366-f8879bc1203b",
   "metadata": {},
   "outputs": [
    {
     "data": {
      "text/html": [
       "<div>\n",
       "<style scoped>\n",
       "    .dataframe tbody tr th:only-of-type {\n",
       "        vertical-align: middle;\n",
       "    }\n",
       "\n",
       "    .dataframe tbody tr th {\n",
       "        vertical-align: top;\n",
       "    }\n",
       "\n",
       "    .dataframe thead th {\n",
       "        text-align: right;\n",
       "    }\n",
       "</style>\n",
       "<table border=\"1\" class=\"dataframe\">\n",
       "  <thead>\n",
       "    <tr style=\"text-align: right;\">\n",
       "      <th></th>\n",
       "      <th>credit_score</th>\n",
       "      <th>country</th>\n",
       "      <th>gender</th>\n",
       "      <th>age</th>\n",
       "      <th>tenure</th>\n",
       "      <th>balance</th>\n",
       "      <th>products_number</th>\n",
       "      <th>credit_card</th>\n",
       "      <th>active_member</th>\n",
       "      <th>estimated_salary</th>\n",
       "      <th>churn</th>\n",
       "    </tr>\n",
       "  </thead>\n",
       "  <tbody>\n",
       "    <tr>\n",
       "      <th>9161</th>\n",
       "      <td>621</td>\n",
       "      <td>France</td>\n",
       "      <td>Male</td>\n",
       "      <td>40</td>\n",
       "      <td>10</td>\n",
       "      <td>163823.37</td>\n",
       "      <td>1</td>\n",
       "      <td>0</td>\n",
       "      <td>0</td>\n",
       "      <td>89519.47</td>\n",
       "      <td>0</td>\n",
       "    </tr>\n",
       "    <tr>\n",
       "      <th>7844</th>\n",
       "      <td>612</td>\n",
       "      <td>France</td>\n",
       "      <td>Female</td>\n",
       "      <td>38</td>\n",
       "      <td>1</td>\n",
       "      <td>0.00</td>\n",
       "      <td>2</td>\n",
       "      <td>1</td>\n",
       "      <td>1</td>\n",
       "      <td>9209.21</td>\n",
       "      <td>0</td>\n",
       "    </tr>\n",
       "    <tr>\n",
       "      <th>4533</th>\n",
       "      <td>850</td>\n",
       "      <td>Spain</td>\n",
       "      <td>Male</td>\n",
       "      <td>39</td>\n",
       "      <td>6</td>\n",
       "      <td>206014.94</td>\n",
       "      <td>2</td>\n",
       "      <td>0</td>\n",
       "      <td>1</td>\n",
       "      <td>42774.84</td>\n",
       "      <td>1</td>\n",
       "    </tr>\n",
       "    <tr>\n",
       "      <th>927</th>\n",
       "      <td>639</td>\n",
       "      <td>Germany</td>\n",
       "      <td>Male</td>\n",
       "      <td>38</td>\n",
       "      <td>5</td>\n",
       "      <td>130170.82</td>\n",
       "      <td>1</td>\n",
       "      <td>1</td>\n",
       "      <td>1</td>\n",
       "      <td>149599.62</td>\n",
       "      <td>0</td>\n",
       "    </tr>\n",
       "    <tr>\n",
       "      <th>9980</th>\n",
       "      <td>741</td>\n",
       "      <td>Spain</td>\n",
       "      <td>Male</td>\n",
       "      <td>35</td>\n",
       "      <td>6</td>\n",
       "      <td>74371.49</td>\n",
       "      <td>1</td>\n",
       "      <td>0</td>\n",
       "      <td>0</td>\n",
       "      <td>99595.67</td>\n",
       "      <td>0</td>\n",
       "    </tr>\n",
       "  </tbody>\n",
       "</table>\n",
       "</div>"
      ],
      "text/plain": [
       "      credit_score  country  gender  age  tenure    balance  products_number  \\\n",
       "9161           621   France    Male   40      10  163823.37                1   \n",
       "7844           612   France  Female   38       1       0.00                2   \n",
       "4533           850    Spain    Male   39       6  206014.94                2   \n",
       "927            639  Germany    Male   38       5  130170.82                1   \n",
       "9980           741    Spain    Male   35       6   74371.49                1   \n",
       "\n",
       "      credit_card  active_member  estimated_salary  churn  \n",
       "9161            0              0          89519.47      0  \n",
       "7844            1              1           9209.21      0  \n",
       "4533            0              1          42774.84      1  \n",
       "927             1              1         149599.62      0  \n",
       "9980            0              0          99595.67      0  "
      ]
     },
     "execution_count": 13,
     "metadata": {},
     "output_type": "execute_result"
    }
   ],
   "source": [
    "data.head()"
   ]
  },
  {
   "cell_type": "code",
   "execution_count": 14,
   "id": "4fa1d465-624f-44d0-8093-070902aadca5",
   "metadata": {},
   "outputs": [],
   "source": [
    "X, y = data.loc[:, data.columns != \"churn\"], data.loc[:, [\"churn\"]]"
   ]
  },
  {
   "cell_type": "code",
   "execution_count": 15,
   "id": "4427c006-9d68-48ea-ad68-1fa8331aea32",
   "metadata": {},
   "outputs": [
    {
     "data": {
      "text/html": [
       "<div>\n",
       "<style scoped>\n",
       "    .dataframe tbody tr th:only-of-type {\n",
       "        vertical-align: middle;\n",
       "    }\n",
       "\n",
       "    .dataframe tbody tr th {\n",
       "        vertical-align: top;\n",
       "    }\n",
       "\n",
       "    .dataframe thead th {\n",
       "        text-align: right;\n",
       "    }\n",
       "</style>\n",
       "<table border=\"1\" class=\"dataframe\">\n",
       "  <thead>\n",
       "    <tr style=\"text-align: right;\">\n",
       "      <th></th>\n",
       "      <th>credit_score</th>\n",
       "      <th>age</th>\n",
       "      <th>tenure</th>\n",
       "      <th>balance</th>\n",
       "      <th>products_number</th>\n",
       "      <th>credit_card</th>\n",
       "      <th>active_member</th>\n",
       "      <th>estimated_salary</th>\n",
       "    </tr>\n",
       "  </thead>\n",
       "  <tbody>\n",
       "    <tr>\n",
       "      <th>count</th>\n",
       "      <td>1000.00000</td>\n",
       "      <td>1000.000000</td>\n",
       "      <td>1000.000000</td>\n",
       "      <td>1000.000000</td>\n",
       "      <td>1000.000000</td>\n",
       "      <td>1000.000000</td>\n",
       "      <td>1000.000000</td>\n",
       "      <td>1000.00000</td>\n",
       "    </tr>\n",
       "    <tr>\n",
       "      <th>mean</th>\n",
       "      <td>651.18200</td>\n",
       "      <td>38.684000</td>\n",
       "      <td>5.179000</td>\n",
       "      <td>77546.225520</td>\n",
       "      <td>1.504000</td>\n",
       "      <td>0.698000</td>\n",
       "      <td>0.493000</td>\n",
       "      <td>102081.88572</td>\n",
       "    </tr>\n",
       "    <tr>\n",
       "      <th>std</th>\n",
       "      <td>99.61512</td>\n",
       "      <td>10.283963</td>\n",
       "      <td>2.875278</td>\n",
       "      <td>61262.379374</td>\n",
       "      <td>0.600287</td>\n",
       "      <td>0.459355</td>\n",
       "      <td>0.500201</td>\n",
       "      <td>56516.68655</td>\n",
       "    </tr>\n",
       "    <tr>\n",
       "      <th>min</th>\n",
       "      <td>350.00000</td>\n",
       "      <td>19.000000</td>\n",
       "      <td>0.000000</td>\n",
       "      <td>0.000000</td>\n",
       "      <td>1.000000</td>\n",
       "      <td>0.000000</td>\n",
       "      <td>0.000000</td>\n",
       "      <td>487.30000</td>\n",
       "    </tr>\n",
       "    <tr>\n",
       "      <th>25%</th>\n",
       "      <td>582.00000</td>\n",
       "      <td>32.000000</td>\n",
       "      <td>3.000000</td>\n",
       "      <td>0.000000</td>\n",
       "      <td>1.000000</td>\n",
       "      <td>0.000000</td>\n",
       "      <td>0.000000</td>\n",
       "      <td>52869.39750</td>\n",
       "    </tr>\n",
       "    <tr>\n",
       "      <th>50%</th>\n",
       "      <td>654.00000</td>\n",
       "      <td>37.000000</td>\n",
       "      <td>5.000000</td>\n",
       "      <td>96806.205000</td>\n",
       "      <td>1.000000</td>\n",
       "      <td>1.000000</td>\n",
       "      <td>0.000000</td>\n",
       "      <td>103559.52500</td>\n",
       "    </tr>\n",
       "    <tr>\n",
       "      <th>75%</th>\n",
       "      <td>725.00000</td>\n",
       "      <td>43.000000</td>\n",
       "      <td>8.000000</td>\n",
       "      <td>128394.050000</td>\n",
       "      <td>2.000000</td>\n",
       "      <td>1.000000</td>\n",
       "      <td>1.000000</td>\n",
       "      <td>147808.84250</td>\n",
       "    </tr>\n",
       "    <tr>\n",
       "      <th>max</th>\n",
       "      <td>850.00000</td>\n",
       "      <td>81.000000</td>\n",
       "      <td>10.000000</td>\n",
       "      <td>206014.940000</td>\n",
       "      <td>4.000000</td>\n",
       "      <td>1.000000</td>\n",
       "      <td>1.000000</td>\n",
       "      <td>199761.29000</td>\n",
       "    </tr>\n",
       "  </tbody>\n",
       "</table>\n",
       "</div>"
      ],
      "text/plain": [
       "       credit_score          age       tenure        balance  products_number  \\\n",
       "count    1000.00000  1000.000000  1000.000000    1000.000000      1000.000000   \n",
       "mean      651.18200    38.684000     5.179000   77546.225520         1.504000   \n",
       "std        99.61512    10.283963     2.875278   61262.379374         0.600287   \n",
       "min       350.00000    19.000000     0.000000       0.000000         1.000000   \n",
       "25%       582.00000    32.000000     3.000000       0.000000         1.000000   \n",
       "50%       654.00000    37.000000     5.000000   96806.205000         1.000000   \n",
       "75%       725.00000    43.000000     8.000000  128394.050000         2.000000   \n",
       "max       850.00000    81.000000    10.000000  206014.940000         4.000000   \n",
       "\n",
       "       credit_card  active_member  estimated_salary  \n",
       "count  1000.000000    1000.000000        1000.00000  \n",
       "mean      0.698000       0.493000      102081.88572  \n",
       "std       0.459355       0.500201       56516.68655  \n",
       "min       0.000000       0.000000         487.30000  \n",
       "25%       0.000000       0.000000       52869.39750  \n",
       "50%       1.000000       0.000000      103559.52500  \n",
       "75%       1.000000       1.000000      147808.84250  \n",
       "max       1.000000       1.000000      199761.29000  "
      ]
     },
     "execution_count": 15,
     "metadata": {},
     "output_type": "execute_result"
    }
   ],
   "source": [
    "X.describe()"
   ]
  },
  {
   "cell_type": "markdown",
   "id": "1166272d-244a-4c30-945b-4d11ecf686fd",
   "metadata": {},
   "source": [
    "### 1.1. churn vs gender"
   ]
  },
  {
   "cell_type": "code",
   "execution_count": 16,
   "id": "ae127872-206f-466d-b859-5bb299e3b543",
   "metadata": {},
   "outputs": [],
   "source": [
    "ct_gender = pd.crosstab(index=X[\"gender\"], columns=y[\"churn\"], normalize=\"index\", margins=True)"
   ]
  },
  {
   "cell_type": "code",
   "execution_count": 17,
   "id": "1041f717-d981-4687-90aa-b15f623539b9",
   "metadata": {},
   "outputs": [
    {
     "data": {
      "text/html": [
       "<div>\n",
       "<style scoped>\n",
       "    .dataframe tbody tr th:only-of-type {\n",
       "        vertical-align: middle;\n",
       "    }\n",
       "\n",
       "    .dataframe tbody tr th {\n",
       "        vertical-align: top;\n",
       "    }\n",
       "\n",
       "    .dataframe thead th {\n",
       "        text-align: right;\n",
       "    }\n",
       "</style>\n",
       "<table border=\"1\" class=\"dataframe\">\n",
       "  <thead>\n",
       "    <tr style=\"text-align: right;\">\n",
       "      <th>churn</th>\n",
       "      <th>0</th>\n",
       "      <th>1</th>\n",
       "    </tr>\n",
       "    <tr>\n",
       "      <th>gender</th>\n",
       "      <th></th>\n",
       "      <th></th>\n",
       "    </tr>\n",
       "  </thead>\n",
       "  <tbody>\n",
       "    <tr>\n",
       "      <th>Female</th>\n",
       "      <td>0.777283</td>\n",
       "      <td>0.222717</td>\n",
       "    </tr>\n",
       "    <tr>\n",
       "      <th>Male</th>\n",
       "      <td>0.811252</td>\n",
       "      <td>0.188748</td>\n",
       "    </tr>\n",
       "    <tr>\n",
       "      <th>All</th>\n",
       "      <td>0.796000</td>\n",
       "      <td>0.204000</td>\n",
       "    </tr>\n",
       "  </tbody>\n",
       "</table>\n",
       "</div>"
      ],
      "text/plain": [
       "churn          0         1\n",
       "gender                    \n",
       "Female  0.777283  0.222717\n",
       "Male    0.811252  0.188748\n",
       "All     0.796000  0.204000"
      ]
     },
     "execution_count": 17,
     "metadata": {},
     "output_type": "execute_result"
    }
   ],
   "source": [
    "ct_gender"
   ]
  },
  {
   "cell_type": "markdown",
   "id": "809d2856-cf0e-4ce1-892c-b345197a6592",
   "metadata": {},
   "source": [
    "### 1.2. country vs churn"
   ]
  },
  {
   "cell_type": "code",
   "execution_count": 18,
   "id": "49fce2b3-3523-48a1-857b-14cf03554faf",
   "metadata": {},
   "outputs": [],
   "source": [
    "ct_country = pd.crosstab(index=X[\"country\"], columns=y[\"churn\"], normalize=\"index\", margins=True)"
   ]
  },
  {
   "cell_type": "code",
   "execution_count": 19,
   "id": "a63cc518-062a-4965-b179-3d649f6d239c",
   "metadata": {},
   "outputs": [
    {
     "data": {
      "text/html": [
       "<div>\n",
       "<style scoped>\n",
       "    .dataframe tbody tr th:only-of-type {\n",
       "        vertical-align: middle;\n",
       "    }\n",
       "\n",
       "    .dataframe tbody tr th {\n",
       "        vertical-align: top;\n",
       "    }\n",
       "\n",
       "    .dataframe thead th {\n",
       "        text-align: right;\n",
       "    }\n",
       "</style>\n",
       "<table border=\"1\" class=\"dataframe\">\n",
       "  <thead>\n",
       "    <tr style=\"text-align: right;\">\n",
       "      <th>churn</th>\n",
       "      <th>0</th>\n",
       "      <th>1</th>\n",
       "    </tr>\n",
       "    <tr>\n",
       "      <th>country</th>\n",
       "      <th></th>\n",
       "      <th></th>\n",
       "    </tr>\n",
       "  </thead>\n",
       "  <tbody>\n",
       "    <tr>\n",
       "      <th>France</th>\n",
       "      <td>0.845098</td>\n",
       "      <td>0.154902</td>\n",
       "    </tr>\n",
       "    <tr>\n",
       "      <th>Germany</th>\n",
       "      <td>0.664093</td>\n",
       "      <td>0.335907</td>\n",
       "    </tr>\n",
       "    <tr>\n",
       "      <th>Spain</th>\n",
       "      <td>0.835498</td>\n",
       "      <td>0.164502</td>\n",
       "    </tr>\n",
       "    <tr>\n",
       "      <th>All</th>\n",
       "      <td>0.796000</td>\n",
       "      <td>0.204000</td>\n",
       "    </tr>\n",
       "  </tbody>\n",
       "</table>\n",
       "</div>"
      ],
      "text/plain": [
       "churn           0         1\n",
       "country                    \n",
       "France   0.845098  0.154902\n",
       "Germany  0.664093  0.335907\n",
       "Spain    0.835498  0.164502\n",
       "All      0.796000  0.204000"
      ]
     },
     "execution_count": 19,
     "metadata": {},
     "output_type": "execute_result"
    }
   ],
   "source": [
    "ct_country"
   ]
  },
  {
   "cell_type": "markdown",
   "id": "3bf2a5c0-9efa-40c2-8ab4-63871ab19410",
   "metadata": {},
   "source": [
    "### 1.3. active member vs churn"
   ]
  },
  {
   "cell_type": "code",
   "execution_count": 20,
   "id": "9f129bb1-220a-48b0-82f6-5125f7f611d4",
   "metadata": {},
   "outputs": [],
   "source": [
    "ct_active_member = pd.crosstab(index=X[\"active_member\"], columns=y[\"churn\"], normalize=\"index\", margins=True)"
   ]
  },
  {
   "cell_type": "code",
   "execution_count": 21,
   "id": "b426d6da-fbe9-43a2-a179-ca09198adc02",
   "metadata": {},
   "outputs": [
    {
     "data": {
      "text/html": [
       "<div>\n",
       "<style scoped>\n",
       "    .dataframe tbody tr th:only-of-type {\n",
       "        vertical-align: middle;\n",
       "    }\n",
       "\n",
       "    .dataframe tbody tr th {\n",
       "        vertical-align: top;\n",
       "    }\n",
       "\n",
       "    .dataframe thead th {\n",
       "        text-align: right;\n",
       "    }\n",
       "</style>\n",
       "<table border=\"1\" class=\"dataframe\">\n",
       "  <thead>\n",
       "    <tr style=\"text-align: right;\">\n",
       "      <th>churn</th>\n",
       "      <th>0</th>\n",
       "      <th>1</th>\n",
       "    </tr>\n",
       "    <tr>\n",
       "      <th>active_member</th>\n",
       "      <th></th>\n",
       "      <th></th>\n",
       "    </tr>\n",
       "  </thead>\n",
       "  <tbody>\n",
       "    <tr>\n",
       "      <th>0</th>\n",
       "      <td>0.721893</td>\n",
       "      <td>0.278107</td>\n",
       "    </tr>\n",
       "    <tr>\n",
       "      <th>1</th>\n",
       "      <td>0.872211</td>\n",
       "      <td>0.127789</td>\n",
       "    </tr>\n",
       "    <tr>\n",
       "      <th>All</th>\n",
       "      <td>0.796000</td>\n",
       "      <td>0.204000</td>\n",
       "    </tr>\n",
       "  </tbody>\n",
       "</table>\n",
       "</div>"
      ],
      "text/plain": [
       "churn                 0         1\n",
       "active_member                    \n",
       "0              0.721893  0.278107\n",
       "1              0.872211  0.127789\n",
       "All            0.796000  0.204000"
      ]
     },
     "execution_count": 21,
     "metadata": {},
     "output_type": "execute_result"
    }
   ],
   "source": [
    "ct_active_member"
   ]
  },
  {
   "cell_type": "markdown",
   "id": "a2508d8b-3423-45b7-9d44-798e6fe479b6",
   "metadata": {},
   "source": [
    "### 1.4. credit_score distribution"
   ]
  },
  {
   "cell_type": "code",
   "execution_count": 22,
   "id": "55eaf7f7-b8b6-41cb-9b97-44d1ed10ea6c",
   "metadata": {},
   "outputs": [
    {
     "data": {
      "text/plain": [
       "<Axes: >"
      ]
     },
     "execution_count": 22,
     "metadata": {},
     "output_type": "execute_result"
    },
    {
     "data": {
      "image/png": "[encoded data removed]",
      "text/plain": [
       "<Figure size 640x480 with 1 Axes>"
      ]
     },
     "metadata": {},
     "output_type": "display_data"
    }
   ],
   "source": [
    "X[\"credit_score\"].hist(density=True)"
   ]
  },
  {
   "cell_type": "markdown",
   "id": "74081b8d-36f3-4798-93aa-8fb9e004feea",
   "metadata": {},
   "source": [
    "### 1.5. estimated_salary distribution"
   ]
  },
  {
   "cell_type": "code",
   "execution_count": 23,
   "id": "23901d81-cfe0-4ba2-b6c3-672b17c18faf",
   "metadata": {},
   "outputs": [
    {
     "data": {
      "text/plain": [
       "count      1000.00000\n",
       "mean     102081.88572\n",
       "std       56516.68655\n",
       "min         487.30000\n",
       "25%       52869.39750\n",
       "50%      103559.52500\n",
       "75%      147808.84250\n",
       "max      199761.29000\n",
       "Name: estimated_salary, dtype: float64"
      ]
     },
     "execution_count": 23,
     "metadata": {},
     "output_type": "execute_result"
    }
   ],
   "source": [
    "X[\"estimated_salary\"].describe()"
   ]
  },
  {
   "cell_type": "code",
   "execution_count": 24,
   "id": "ea66508d-687a-4ffd-b512-558f444be22c",
   "metadata": {},
   "outputs": [
    {
     "data": {
      "text/plain": [
       "<Axes: >"
      ]
     },
     "execution_count": 24,
     "metadata": {},
     "output_type": "execute_result"
    },
    {
     "data": {
      "image/png": "[encoded data removed]",
      "text/plain": [
       "<Figure size 640x480 with 1 Axes>"
      ]
     },
     "metadata": {},
     "output_type": "display_data"
    }
   ],
   "source": [
    "X[\"estimated_salary\"].hist(density=False)"
   ]
  },
  {
   "cell_type": "markdown",
   "id": "53d59403-ac5a-481a-a698-184426f46d3f",
   "metadata": {},
   "source": [
    "### 1.6. balance dist"
   ]
  },
  {
   "cell_type": "code",
   "execution_count": 25,
   "id": "ca1519c6-907e-4e39-8ecf-ac3489ba46d8",
   "metadata": {},
   "outputs": [
    {
     "data": {
      "text/plain": [
       "<Axes: >"
      ]
     },
     "execution_count": 25,
     "metadata": {},
     "output_type": "execute_result"
    },
    {
     "data": {
      "image/png": "[encoded data removed]",
      "text/plain": [
       "<Figure size 640x480 with 1 Axes>"
      ]
     },
     "metadata": {},
     "output_type": "display_data"
    }
   ],
   "source": [
    "X[\"balance\"].hist(density=True)"
   ]
  },
  {
   "cell_type": "code",
   "execution_count": 26,
   "id": "334f77b9-c632-4b19-b204-d7d409c907a5",
   "metadata": {},
   "outputs": [
    {
     "data": {
      "text/plain": [
       "0.344"
      ]
     },
     "execution_count": 26,
     "metadata": {},
     "output_type": "execute_result"
    }
   ],
   "source": [
    "X[X[\"balance\"] == 0.0].shape[0] / X.shape[0]"
   ]
  },
  {
   "cell_type": "markdown",
   "id": "21f7c008-1475-42ba-ab4d-68a1df9982ba",
   "metadata": {},
   "source": [
    "### 1.7. credit_score vs estimated_salary"
   ]
  },
  {
   "cell_type": "code",
   "execution_count": 27,
   "id": "e32076f9-a06f-4588-9885-e487b9895596",
   "metadata": {},
   "outputs": [
    {
     "data": {
      "text/plain": [
       "<Axes: xlabel='estimated_salary', ylabel='credit_score'>"
      ]
     },
     "execution_count": 27,
     "metadata": {},
     "output_type": "execute_result"
    },
    {
     "data": {
      "image/png": "[encoded data removed]",
      "text/plain": [
       "<Figure size 640x480 with 1 Axes>"
      ]
     },
     "metadata": {},
     "output_type": "display_data"
    }
   ],
   "source": [
    "X.plot.scatter(x=\"estimated_salary\", y=\"credit_score\")"
   ]
  },
  {
   "cell_type": "markdown",
   "id": "5d972d54-ddcf-4ed8-994d-20e2c323eb72",
   "metadata": {},
   "source": [
    "### 1.8. age distribution"
   ]
  },
  {
   "cell_type": "code",
   "execution_count": 28,
   "id": "eeaa325a-fee9-437c-aaab-f25df3b17d49",
   "metadata": {},
   "outputs": [
    {
     "data": {
      "text/plain": [
       "<Axes: >"
      ]
     },
     "execution_count": 28,
     "metadata": {},
     "output_type": "execute_result"
    },
    {
     "data": {
      "image/png": "[encoded data removed]",
      "text/plain": [
       "<Figure size 640x480 with 1 Axes>"
      ]
     },
     "metadata": {},
     "output_type": "display_data"
    }
   ],
   "source": [
    "X[\"age\"].hist(density=True)"
   ]
  },
  {
   "cell_type": "markdown",
   "id": "9b42d86d-e8d7-4316-a244-cc3e44ecef4f",
   "metadata": {},
   "source": [
    "## 2. Transform Regressors"
   ]
  },
  {
   "cell_type": "code",
   "execution_count": 29,
   "id": "02819d81-509c-436a-a7c4-6d420f778ba5",
   "metadata": {},
   "outputs": [
    {
     "data": {
      "text/html": [
       "<div>\n",
       "<style scoped>\n",
       "    .dataframe tbody tr th:only-of-type {\n",
       "        vertical-align: middle;\n",
       "    }\n",
       "\n",
       "    .dataframe tbody tr th {\n",
       "        vertical-align: top;\n",
       "    }\n",
       "\n",
       "    .dataframe thead th {\n",
       "        text-align: right;\n",
       "    }\n",
       "</style>\n",
       "<table border=\"1\" class=\"dataframe\">\n",
       "  <thead>\n",
       "    <tr style=\"text-align: right;\">\n",
       "      <th></th>\n",
       "      <th>credit_score</th>\n",
       "      <th>country</th>\n",
       "      <th>gender</th>\n",
       "      <th>age</th>\n",
       "      <th>tenure</th>\n",
       "      <th>balance</th>\n",
       "      <th>products_number</th>\n",
       "      <th>credit_card</th>\n",
       "      <th>active_member</th>\n",
       "      <th>estimated_salary</th>\n",
       "    </tr>\n",
       "  </thead>\n",
       "  <tbody>\n",
       "    <tr>\n",
       "      <th>9161</th>\n",
       "      <td>621</td>\n",
       "      <td>France</td>\n",
       "      <td>Male</td>\n",
       "      <td>40</td>\n",
       "      <td>10</td>\n",
       "      <td>163823.37</td>\n",
       "      <td>1</td>\n",
       "      <td>0</td>\n",
       "      <td>0</td>\n",
       "      <td>89519.47</td>\n",
       "    </tr>\n",
       "    <tr>\n",
       "      <th>7844</th>\n",
       "      <td>612</td>\n",
       "      <td>France</td>\n",
       "      <td>Female</td>\n",
       "      <td>38</td>\n",
       "      <td>1</td>\n",
       "      <td>0.00</td>\n",
       "      <td>2</td>\n",
       "      <td>1</td>\n",
       "      <td>1</td>\n",
       "      <td>9209.21</td>\n",
       "    </tr>\n",
       "    <tr>\n",
       "      <th>4533</th>\n",
       "      <td>850</td>\n",
       "      <td>Spain</td>\n",
       "      <td>Male</td>\n",
       "      <td>39</td>\n",
       "      <td>6</td>\n",
       "      <td>206014.94</td>\n",
       "      <td>2</td>\n",
       "      <td>0</td>\n",
       "      <td>1</td>\n",
       "      <td>42774.84</td>\n",
       "    </tr>\n",
       "    <tr>\n",
       "      <th>927</th>\n",
       "      <td>639</td>\n",
       "      <td>Germany</td>\n",
       "      <td>Male</td>\n",
       "      <td>38</td>\n",
       "      <td>5</td>\n",
       "      <td>130170.82</td>\n",
       "      <td>1</td>\n",
       "      <td>1</td>\n",
       "      <td>1</td>\n",
       "      <td>149599.62</td>\n",
       "    </tr>\n",
       "    <tr>\n",
       "      <th>9980</th>\n",
       "      <td>741</td>\n",
       "      <td>Spain</td>\n",
       "      <td>Male</td>\n",
       "      <td>35</td>\n",
       "      <td>6</td>\n",
       "      <td>74371.49</td>\n",
       "      <td>1</td>\n",
       "      <td>0</td>\n",
       "      <td>0</td>\n",
       "      <td>99595.67</td>\n",
       "    </tr>\n",
       "  </tbody>\n",
       "</table>\n",
       "</div>"
      ],
      "text/plain": [
       "      credit_score  country  gender  age  tenure    balance  products_number  \\\n",
       "9161           621   France    Male   40      10  163823.37                1   \n",
       "7844           612   France  Female   38       1       0.00                2   \n",
       "4533           850    Spain    Male   39       6  206014.94                2   \n",
       "927            639  Germany    Male   38       5  130170.82                1   \n",
       "9980           741    Spain    Male   35       6   74371.49                1   \n",
       "\n",
       "      credit_card  active_member  estimated_salary  \n",
       "9161            0              0          89519.47  \n",
       "7844            1              1           9209.21  \n",
       "4533            0              1          42774.84  \n",
       "927             1              1         149599.62  \n",
       "9980            0              0          99595.67  "
      ]
     },
     "execution_count": 29,
     "metadata": {},
     "output_type": "execute_result"
    }
   ],
   "source": [
    "X.head()"
   ]
  },
  {
   "cell_type": "markdown",
   "id": "0829cd8f-ec03-4964-bdb7-7e9ec4dbe1b4",
   "metadata": {},
   "source": [
    "### 2.1. Categorical, nominal, low number of levels"
   ]
  },
  {
   "cell_type": "markdown",
   "id": "e0184f08-8e0b-4ac4-bc10-a4aa4f5124f1",
   "metadata": {},
   "source": [
    "Regressors: \n",
    "1. country\n",
    "2. gender\n",
    "3. products_number\n",
    "4. credit_card\n",
    "5. active_member\n",
    "\n",
    "are left unchanged."
   ]
  },
  {
   "cell_type": "markdown",
   "id": "6c59e208-22b5-45dc-80d2-fb25d7e74ed8",
   "metadata": {},
   "source": [
    "### 2.2. estimated_salary is mapped to [0, 1]"
   ]
  },
  {
   "cell_type": "code",
   "execution_count": 30,
   "id": "c38fc60a-11c1-4f94-9572-839bc9000c9b",
   "metadata": {},
   "outputs": [],
   "source": [
    "mimax_scaler = MinMaxScaler()"
   ]
  },
  {
   "cell_type": "code",
   "execution_count": 31,
   "id": "d23ff581-ff37-450a-b866-905b8e964e9f",
   "metadata": {},
   "outputs": [
    {
     "name": "stderr",
     "output_type": "stream",
     "text": [
      "/var/folders/pn/mflr608s6vdbf4ccdqtxcldw0000gn/T/ipykernel_86240/411901416.py:1: SettingWithCopyWarning: \n",
      "A value is trying to be set on a copy of a slice from a DataFrame.\n",
      "Try using .loc[row_indexer,col_indexer] = value instead\n",
      "\n",
      "See the caveats in the documentation: https://pandas.pydata.org/pandas-docs/stable/user_guide/indexing.html#returning-a-view-versus-a-copy\n",
      "  X[\"estimated_salary\"] = mimax_scaler.fit_transform(X[[\"estimated_salary\"]])\n"
     ]
    }
   ],
   "source": [
    "X[\"estimated_salary\"] = mimax_scaler.fit_transform(X[[\"estimated_salary\"]])"
   ]
  },
  {
   "cell_type": "code",
   "execution_count": 32,
   "id": "4da62ab6-3e16-4a8d-89a0-41ee5b5af372",
   "metadata": {},
   "outputs": [
    {
     "data": {
      "text/plain": [
       "<Axes: >"
      ]
     },
     "execution_count": 32,
     "metadata": {},
     "output_type": "execute_result"
    },
    {
     "data": {
      "image/png": "[encoded data removed]",
      "text/plain": [
       "<Figure size 640x480 with 1 Axes>"
      ]
     },
     "metadata": {},
     "output_type": "display_data"
    }
   ],
   "source": [
    "X[\"estimated_salary\"].hist()"
   ]
  },
  {
   "cell_type": "markdown",
   "id": "40d60611-f0f8-4bec-ad40-bf3ca6afcfb8",
   "metadata": {},
   "source": [
    "### 2.3. credit_score is standardized"
   ]
  },
  {
   "cell_type": "markdown",
   "id": "5ebc4f47-3a8d-4149-8272-fee05ce3cfbc",
   "metadata": {},
   "source": [
    "### 2.4. "
   ]
  },
  {
   "cell_type": "code",
   "execution_count": 33,
   "id": "f1d72f1b-ad16-4da9-ac36-7fde160a5000",
   "metadata": {},
   "outputs": [
    {
     "data": {
      "text/html": [
       "<div>\n",
       "<style scoped>\n",
       "    .dataframe tbody tr th:only-of-type {\n",
       "        vertical-align: middle;\n",
       "    }\n",
       "\n",
       "    .dataframe tbody tr th {\n",
       "        vertical-align: top;\n",
       "    }\n",
       "\n",
       "    .dataframe thead th {\n",
       "        text-align: right;\n",
       "    }\n",
       "</style>\n",
       "<table border=\"1\" class=\"dataframe\">\n",
       "  <thead>\n",
       "    <tr style=\"text-align: right;\">\n",
       "      <th></th>\n",
       "      <th>credit_score</th>\n",
       "      <th>country</th>\n",
       "      <th>gender</th>\n",
       "      <th>age</th>\n",
       "      <th>tenure</th>\n",
       "      <th>balance</th>\n",
       "      <th>products_number</th>\n",
       "      <th>credit_card</th>\n",
       "      <th>active_member</th>\n",
       "      <th>estimated_salary</th>\n",
       "    </tr>\n",
       "  </thead>\n",
       "  <tbody>\n",
       "    <tr>\n",
       "      <th>9161</th>\n",
       "      <td>621</td>\n",
       "      <td>France</td>\n",
       "      <td>Male</td>\n",
       "      <td>40</td>\n",
       "      <td>10</td>\n",
       "      <td>163823.37</td>\n",
       "      <td>1</td>\n",
       "      <td>0</td>\n",
       "      <td>0</td>\n",
       "      <td>0.446783</td>\n",
       "    </tr>\n",
       "    <tr>\n",
       "      <th>7844</th>\n",
       "      <td>612</td>\n",
       "      <td>France</td>\n",
       "      <td>Female</td>\n",
       "      <td>38</td>\n",
       "      <td>1</td>\n",
       "      <td>0.00</td>\n",
       "      <td>2</td>\n",
       "      <td>1</td>\n",
       "      <td>1</td>\n",
       "      <td>0.043768</td>\n",
       "    </tr>\n",
       "    <tr>\n",
       "      <th>4533</th>\n",
       "      <td>850</td>\n",
       "      <td>Spain</td>\n",
       "      <td>Male</td>\n",
       "      <td>39</td>\n",
       "      <td>6</td>\n",
       "      <td>206014.94</td>\n",
       "      <td>2</td>\n",
       "      <td>0</td>\n",
       "      <td>1</td>\n",
       "      <td>0.212208</td>\n",
       "    </tr>\n",
       "    <tr>\n",
       "      <th>927</th>\n",
       "      <td>639</td>\n",
       "      <td>Germany</td>\n",
       "      <td>Male</td>\n",
       "      <td>38</td>\n",
       "      <td>5</td>\n",
       "      <td>130170.82</td>\n",
       "      <td>1</td>\n",
       "      <td>1</td>\n",
       "      <td>1</td>\n",
       "      <td>0.748278</td>\n",
       "    </tr>\n",
       "    <tr>\n",
       "      <th>9980</th>\n",
       "      <td>741</td>\n",
       "      <td>Spain</td>\n",
       "      <td>Male</td>\n",
       "      <td>35</td>\n",
       "      <td>6</td>\n",
       "      <td>74371.49</td>\n",
       "      <td>1</td>\n",
       "      <td>0</td>\n",
       "      <td>0</td>\n",
       "      <td>0.497347</td>\n",
       "    </tr>\n",
       "    <tr>\n",
       "      <th>...</th>\n",
       "      <td>...</td>\n",
       "      <td>...</td>\n",
       "      <td>...</td>\n",
       "      <td>...</td>\n",
       "      <td>...</td>\n",
       "      <td>...</td>\n",
       "      <td>...</td>\n",
       "      <td>...</td>\n",
       "      <td>...</td>\n",
       "      <td>...</td>\n",
       "    </tr>\n",
       "    <tr>\n",
       "      <th>1195</th>\n",
       "      <td>676</td>\n",
       "      <td>France</td>\n",
       "      <td>Female</td>\n",
       "      <td>43</td>\n",
       "      <td>2</td>\n",
       "      <td>0.00</td>\n",
       "      <td>1</td>\n",
       "      <td>1</td>\n",
       "      <td>1</td>\n",
       "      <td>0.274156</td>\n",
       "    </tr>\n",
       "    <tr>\n",
       "      <th>2211</th>\n",
       "      <td>717</td>\n",
       "      <td>France</td>\n",
       "      <td>Male</td>\n",
       "      <td>40</td>\n",
       "      <td>0</td>\n",
       "      <td>98241.04</td>\n",
       "      <td>1</td>\n",
       "      <td>1</td>\n",
       "      <td>0</td>\n",
       "      <td>0.554010</td>\n",
       "    </tr>\n",
       "    <tr>\n",
       "      <th>947</th>\n",
       "      <td>715</td>\n",
       "      <td>France</td>\n",
       "      <td>Female</td>\n",
       "      <td>38</td>\n",
       "      <td>5</td>\n",
       "      <td>118590.41</td>\n",
       "      <td>1</td>\n",
       "      <td>1</td>\n",
       "      <td>1</td>\n",
       "      <td>0.026079</td>\n",
       "    </tr>\n",
       "    <tr>\n",
       "      <th>3043</th>\n",
       "      <td>636</td>\n",
       "      <td>France</td>\n",
       "      <td>Female</td>\n",
       "      <td>38</td>\n",
       "      <td>1</td>\n",
       "      <td>0.00</td>\n",
       "      <td>1</td>\n",
       "      <td>1</td>\n",
       "      <td>0</td>\n",
       "      <td>0.223452</td>\n",
       "    </tr>\n",
       "    <tr>\n",
       "      <th>6140</th>\n",
       "      <td>488</td>\n",
       "      <td>France</td>\n",
       "      <td>Female</td>\n",
       "      <td>31</td>\n",
       "      <td>8</td>\n",
       "      <td>97588.60</td>\n",
       "      <td>1</td>\n",
       "      <td>0</td>\n",
       "      <td>0</td>\n",
       "      <td>0.620870</td>\n",
       "    </tr>\n",
       "  </tbody>\n",
       "</table>\n",
       "<p>1000 rows × 10 columns</p>\n",
       "</div>"
      ],
      "text/plain": [
       "      credit_score  country  gender  age  tenure    balance  products_number  \\\n",
       "9161           621   France    Male   40      10  163823.37                1   \n",
       "7844           612   France  Female   38       1       0.00                2   \n",
       "4533           850    Spain    Male   39       6  206014.94                2   \n",
       "927            639  Germany    Male   38       5  130170.82                1   \n",
       "9980           741    Spain    Male   35       6   74371.49                1   \n",
       "...            ...      ...     ...  ...     ...        ...              ...   \n",
       "1195           676   France  Female   43       2       0.00                1   \n",
       "2211           717   France    Male   40       0   98241.04                1   \n",
       "947            715   France  Female   38       5  118590.41                1   \n",
       "3043           636   France  Female   38       1       0.00                1   \n",
       "6140           488   France  Female   31       8   97588.60                1   \n",
       "\n",
       "      credit_card  active_member  estimated_salary  \n",
       "9161            0              0          0.446783  \n",
       "7844            1              1          0.043768  \n",
       "4533            0              1          0.212208  \n",
       "927             1              1          0.748278  \n",
       "9980            0              0          0.497347  \n",
       "...           ...            ...               ...  \n",
       "1195            1              1          0.274156  \n",
       "2211            1              0          0.554010  \n",
       "947             1              1          0.026079  \n",
       "3043            1              0          0.223452  \n",
       "6140            0              0          0.620870  \n",
       "\n",
       "[1000 rows x 10 columns]"
      ]
     },
     "execution_count": 33,
     "metadata": {},
     "output_type": "execute_result"
    }
   ],
   "source": [
    "X"
   ]
  },
  {
   "cell_type": "markdown",
   "id": "8cfc53e4-2238-4b93-a63b-32b0641ecbb7",
   "metadata": {},
   "source": [
    "### 2.1. Bin credit_score"
   ]
  },
  {
   "cell_type": "markdown",
   "id": "309325b1-78a3-47d3-bd3c-896b634d963c",
   "metadata": {},
   "source": [
    "### 2.2. Bin balance"
   ]
  },
  {
   "cell_type": "code",
   "execution_count": null,
   "id": "d29e5625-27b5-442e-a3cd-e4d7e3f092bc",
   "metadata": {},
   "outputs": [],
   "source": []
  }
 ],
 "metadata": {
  "kernelspec": {
   "display_name": "Python 3 (ipykernel)",
   "language": "python",
   "name": "python3"
  },
  "language_info": {
   "codemirror_mode": {
    "name": "ipython",
    "version": 3
   },
   "file_extension": ".py",
   "mimetype": "text/x-python",
   "name": "python",
   "nbconvert_exporter": "python",
   "pygments_lexer": "ipython3",
   "version": "3.12.3"
  }
 },
 "nbformat": 4,
 "nbformat_minor": 5
}
